{
 "cells": [
  {
   "cell_type": "markdown",
   "metadata": {
    "id": "SML-04QQLd9l"
   },
   "source": [
    "**MAESTRÍA EN INTELIGENCIA ARTIFICIAL APLICADA**\n",
    "\n",
    "**Curso: TC4029 - Ciencia y analítica de datos**\n",
    "\n",
    "Tecnológico de Monterrey\n",
    "\n",
    "Prof Grettel Barceló Alonso\n",
    "\n",
    "**Semana 2**\n",
    "Pandas para el análisis de datos en Python\n",
    "\n",
    "---"
   ]
  },
  {
   "cell_type": "markdown",
   "metadata": {
    "id": "6q35__bSBB3G"
   },
   "source": [
    "*   NOMBRE: Osvaldo Trejo Noriega\n",
    "*   MATRÍCULA: A01796850\n"
   ]
  },
  {
   "cell_type": "markdown",
   "metadata": {
    "id": "AepY3wwtDXkc"
   },
   "source": [
    "---"
   ]
  },
  {
   "cell_type": "markdown",
   "metadata": {
    "id": "mqtTwAL3Mr44"
   },
   "source": [
    "1.\tDescarga el archivo: `LaqnData.csv` y guarda, en un dataframe (`air_df`), todos sus registros.\n",
    "*   Observa la estructura y contenido del dataframe con los atributos y métodos estudiados (`shape`, `columns`, `head()`, `tail()`, `dtypes`)\n",
    "*   Calcula el porcentaje de valores faltantes por columna."
   ]
  },
  {
   "cell_type": "code",
   "execution_count": 3,
   "metadata": {
    "id": "GaLWmnMIZzLP"
   },
   "outputs": [],
   "source": [
    "import pandas as pd\n"
   ]
  },
  {
   "cell_type": "code",
   "execution_count": 4,
   "metadata": {
    "colab": {
     "base_uri": "https://localhost:8080/"
    },
    "executionInfo": {
     "elapsed": 191,
     "status": "ok",
     "timestamp": 1737252768044,
     "user": {
      "displayName": "osvaldo trejo",
      "userId": "03791593736686831019"
     },
     "user_tz": 360
    },
    "id": "F5JognteLaJV",
    "outputId": "d9ab1093-63a9-41df-f901-ff658bea2e28"
   },
   "outputs": [
    {
     "name": "stdout",
     "output_type": "stream",
     "text": [
      "(43800, 6)\n",
      "Index(['Site', 'Species', 'ReadingDateTime', 'Value', 'Units',\n",
      "       'Provisional or Ratified'],\n",
      "      dtype='object')\n",
      "  Site Species   ReadingDateTime  Value   Units Provisional or Ratified\n",
      "0  CT3      NO  01/01/2017 00:00    3.5  ug m-3                       R\n",
      "1  CT3      NO  01/01/2017 01:00    3.6  ug m-3                       R\n",
      "2  CT3      NO  01/01/2017 02:00    2.2  ug m-3                       R\n",
      "3  CT3      NO  01/01/2017 03:00    2.1  ug m-3                       R\n",
      "4  CT3      NO  01/01/2017 04:00    3.3  ug m-3                       R\n",
      "      Site Species   ReadingDateTime  Value   Units Provisional or Ratified\n",
      "43795  CT3   PM2.5  31/12/2017 19:00   -2.0  ug m-3                       R\n",
      "43796  CT3   PM2.5  31/12/2017 20:00    6.0  ug m-3                       R\n",
      "43797  CT3   PM2.5  31/12/2017 21:00    5.0  ug m-3                       R\n",
      "43798  CT3   PM2.5  31/12/2017 22:00    5.0  ug m-3                       R\n",
      "43799  CT3   PM2.5  31/12/2017 23:00    6.0  ug m-3                       R\n",
      "Site                        object\n",
      "Species                     object\n",
      "ReadingDateTime             object\n",
      "Value                      float64\n",
      "Units                       object\n",
      "Provisional or Ratified     object\n",
      "dtype: object\n"
     ]
    }
   ],
   "source": [
    "air_df = pd.read_csv('LaqnData.csv')\n",
    "print(air_df.shape) # Muestra el numero de filas y columnas en una tupla\n",
    "print(air_df.columns) # Muestra el nombre de las columnas del dataframe\n",
    "print(air_df.head()) # Muestra los primeros 5 raws del dataframe\n",
    "print(air_df.tail()) # Muestra los ultimos 5 raws del dataframe\n",
    "print(air_df.dtypes) # Muestra el tipo de dato de cada columna"
   ]
  },
  {
   "cell_type": "code",
   "execution_count": 5,
   "metadata": {
    "colab": {
     "base_uri": "https://localhost:8080/"
    },
    "executionInfo": {
     "elapsed": 89,
     "status": "ok",
     "timestamp": 1737252843822,
     "user": {
      "displayName": "osvaldo trejo",
      "userId": "03791593736686831019"
     },
     "user_tz": 360
    },
    "id": "F9xCuAVYVXzN",
    "outputId": "9a73d8f7-3682-4392-bd3a-12bc364fd371"
   },
   "outputs": [
    {
     "data": {
      "text/plain": [
       "8760"
      ]
     },
     "execution_count": 5,
     "metadata": {},
     "output_type": "execute_result"
    }
   ],
   "source": [
    "air_df['ReadingDateTime'].nunique()"
   ]
  },
  {
   "cell_type": "code",
   "execution_count": 6,
   "metadata": {
    "colab": {
     "base_uri": "https://localhost:8080/",
     "height": 272
    },
    "executionInfo": {
     "elapsed": 242,
     "status": "ok",
     "timestamp": 1737252333043,
     "user": {
      "displayName": "osvaldo trejo",
      "userId": "03791593736686831019"
     },
     "user_tz": 360
    },
    "id": "H-jy0EX76P0D",
    "outputId": "c513a41c-8e72-4bfb-b981-c113e0da2f33"
   },
   "outputs": [
    {
     "data": {
      "text/plain": [
       "Site                       0.000000\n",
       "Species                    0.000000\n",
       "ReadingDateTime            0.000000\n",
       "Value                      7.374429\n",
       "Units                      0.000000\n",
       "Provisional or Ratified    0.000000\n",
       "dtype: float64"
      ]
     },
     "execution_count": 6,
     "metadata": {},
     "output_type": "execute_result"
    }
   ],
   "source": [
    "# Valor faltante por columna\n",
    "missing_percentage = air_df.isnull().mean() * 100\n",
    "missing_percentage"
   ]
  },
  {
   "cell_type": "markdown",
   "metadata": {
    "id": "APrlS185Cw-K"
   },
   "source": [
    "2.\tObtén la cantidad de valores únicos por columna (`nunique()`) para responder:\n",
    "\n",
    "\n",
    "*   ¿Cuántas mediciones se hicieron? Se hicieron un total de 43800 mediciones\n",
    "\n",
    "*   ¿Cuántos contaminantes del aire (`Species`) se analizaron? Los datos muestran que se hicieron en 5 especies\n",
    "\n",
    "*   ¿Qué columnas no agregan ningún valor informativo porque el mismo valor en todo el conjunto de datos? Las columnas de Site y Provisional or Ratified\n",
    "\n",
    "*   La columna `Units` tampoco posee valor informativo. Verifícalo con la función `unique()` y elimínala del dataframe."
   ]
  },
  {
   "cell_type": "code",
   "execution_count": 7,
   "metadata": {
    "colab": {
     "base_uri": "https://localhost:8080/",
     "height": 272
    },
    "executionInfo": {
     "elapsed": 178,
     "status": "ok",
     "timestamp": 1737252582857,
     "user": {
      "displayName": "osvaldo trejo",
      "userId": "03791593736686831019"
     },
     "user_tz": 360
    },
    "id": "odY07fo_9l5c",
    "outputId": "1d3676bf-07fe-4315-f77c-a490ebd6fd7c"
   },
   "outputs": [
    {
     "data": {
      "text/plain": [
       "Site                          1\n",
       "Species                       5\n",
       "ReadingDateTime            8760\n",
       "Value                      1847\n",
       "Units                         3\n",
       "Provisional or Ratified       1\n",
       "dtype: int64"
      ]
     },
     "execution_count": 7,
     "metadata": {},
     "output_type": "execute_result"
    }
   ],
   "source": [
    "no_repited_values = air_df.nunique()\n",
    "no_repited_values"
   ]
  },
  {
   "cell_type": "code",
   "execution_count": 8,
   "metadata": {
    "colab": {
     "base_uri": "https://localhost:8080/"
    },
    "executionInfo": {
     "elapsed": 3,
     "status": "ok",
     "timestamp": 1737251785804,
     "user": {
      "displayName": "osvaldo trejo",
      "userId": "03791593736686831019"
     },
     "user_tz": 360
    },
    "id": "Ke0EGLVaCwm6",
    "outputId": "3ea97690-1347-4805-e8f8-fc7bb82e2181"
   },
   "outputs": [
    {
     "name": "stdout",
     "output_type": "stream",
     "text": [
      "['ug m-3' 'ug m-3 as NO2' 'ug/m3']\n",
      "(43800, 3)\n"
     ]
    }
   ],
   "source": [
    "air_df.nunique()\n",
    "air_df['Units'].unique()\n",
    "print(air_df['Units'].unique())\n",
    "air_df_new = air_df.drop(columns=['Units', 'Provisional or Ratified', 'Site'])\n",
    "print(air_df_new.shape)"
   ]
  },
  {
   "cell_type": "markdown",
   "metadata": {
    "id": "zEddCwHWEJZ7"
   },
   "source": [
    "3.\tRealiza el conteo de valores por categoría (`value_counts()`) para la columna `Species` y determina si las lecturas de cada contaminante coincide con el total de mediciones."
   ]
  },
  {
   "cell_type": "code",
   "execution_count": 9,
   "metadata": {
    "colab": {
     "base_uri": "https://localhost:8080/"
    },
    "executionInfo": {
     "elapsed": 2,
     "status": "ok",
     "timestamp": 1737251785804,
     "user": {
      "displayName": "osvaldo trejo",
      "userId": "03791593736686831019"
     },
     "user_tz": 360
    },
    "id": "inCKasmZEPsv",
    "outputId": "44cf9399-e457-4132-8077-eceeb73cbba9"
   },
   "outputs": [
    {
     "name": "stdout",
     "output_type": "stream",
     "text": [
      "Species\n",
      "NO       8760\n",
      "NO2      8760\n",
      "NOX      8760\n",
      "PM10     8760\n",
      "PM2.5    8760\n",
      "Name: count, dtype: int64\n",
      "43800\n"
     ]
    }
   ],
   "source": [
    "print(air_df_new['Species'].value_counts()) #Este codigo muestra el valor total por cada conteo de especie\n",
    "print(air_df_new['Species'].value_counts().sum()) #Este codigo realiza la suma total de todas las especies y concide con el total de mediciones"
   ]
  },
  {
   "cell_type": "markdown",
   "metadata": {
    "id": "zhJM6l1vETfI"
   },
   "source": [
    "4.\tUtiliza la función `groupby()` para determinar el promedio del valor por contaminante."
   ]
  },
  {
   "cell_type": "code",
   "execution_count": 10,
   "metadata": {
    "colab": {
     "base_uri": "https://localhost:8080/",
     "height": 272
    },
    "executionInfo": {
     "elapsed": 296,
     "status": "ok",
     "timestamp": 1737251786098,
     "user": {
      "displayName": "osvaldo trejo",
      "userId": "03791593736686831019"
     },
     "user_tz": 360
    },
    "id": "9aU7p0aIjrE3",
    "outputId": "69caccd8-0058-4e4c-b536-21693086962b"
   },
   "outputs": [
    {
     "data": {
      "text/plain": [
       "Species\n",
       "NO       15.045115\n",
       "NO2      38.010185\n",
       "NOX      61.078661\n",
       "PM10     22.551704\n",
       "PM2.5    14.999831\n",
       "Name: Value, dtype: float64"
      ]
     },
     "execution_count": 10,
     "metadata": {},
     "output_type": "execute_result"
    }
   ],
   "source": [
    "air_df_new.groupby('Species')['Value'].mean()"
   ]
  },
  {
   "cell_type": "markdown",
   "metadata": {
    "id": "GY2ux-Q_EV7J"
   },
   "source": [
    "5.\tEl conjunto de datos está en un formato largo. Aplique la función apropiada para cambiarlo al formato ancho (`ReadingDateTime` como índice y cada contaminante en una columna). Nombre el dataframe resultante como `pvt_df`."
   ]
  },
  {
   "cell_type": "code",
   "execution_count": 11,
   "metadata": {
    "colab": {
     "base_uri": "https://localhost:8080/",
     "height": 486
    },
    "executionInfo": {
     "elapsed": 5,
     "status": "ok",
     "timestamp": 1737251786098,
     "user": {
      "displayName": "osvaldo trejo",
      "userId": "03791593736686831019"
     },
     "user_tz": 360
    },
    "id": "1IETxb9vFIF-",
    "outputId": "65c9f0b1-eca7-48b2-f6a6-1f9b139e29c3"
   },
   "outputs": [
    {
     "data": {
      "text/html": [
       "<div>\n",
       "<style scoped>\n",
       "    .dataframe tbody tr th:only-of-type {\n",
       "        vertical-align: middle;\n",
       "    }\n",
       "\n",
       "    .dataframe tbody tr th {\n",
       "        vertical-align: top;\n",
       "    }\n",
       "\n",
       "    .dataframe thead tr th {\n",
       "        text-align: left;\n",
       "    }\n",
       "\n",
       "    .dataframe thead tr:last-of-type th {\n",
       "        text-align: right;\n",
       "    }\n",
       "</style>\n",
       "<table border=\"1\" class=\"dataframe\">\n",
       "  <thead>\n",
       "    <tr>\n",
       "      <th></th>\n",
       "      <th colspan=\"5\" halign=\"left\">Value</th>\n",
       "    </tr>\n",
       "    <tr>\n",
       "      <th>Species</th>\n",
       "      <th>NO</th>\n",
       "      <th>NO2</th>\n",
       "      <th>NOX</th>\n",
       "      <th>PM10</th>\n",
       "      <th>PM2.5</th>\n",
       "    </tr>\n",
       "    <tr>\n",
       "      <th>ReadingDateTime</th>\n",
       "      <th></th>\n",
       "      <th></th>\n",
       "      <th></th>\n",
       "      <th></th>\n",
       "      <th></th>\n",
       "    </tr>\n",
       "  </thead>\n",
       "  <tbody>\n",
       "    <tr>\n",
       "      <th>01/01/2017 00:00</th>\n",
       "      <td>3.5</td>\n",
       "      <td>30.8</td>\n",
       "      <td>36.2</td>\n",
       "      <td>35.7</td>\n",
       "      <td>NaN</td>\n",
       "    </tr>\n",
       "    <tr>\n",
       "      <th>01/01/2017 01:00</th>\n",
       "      <td>3.6</td>\n",
       "      <td>31.5</td>\n",
       "      <td>37.0</td>\n",
       "      <td>28.5</td>\n",
       "      <td>NaN</td>\n",
       "    </tr>\n",
       "    <tr>\n",
       "      <th>01/01/2017 02:00</th>\n",
       "      <td>2.2</td>\n",
       "      <td>27.3</td>\n",
       "      <td>30.7</td>\n",
       "      <td>22.7</td>\n",
       "      <td>NaN</td>\n",
       "    </tr>\n",
       "    <tr>\n",
       "      <th>01/01/2017 03:00</th>\n",
       "      <td>2.1</td>\n",
       "      <td>23.5</td>\n",
       "      <td>26.8</td>\n",
       "      <td>20.5</td>\n",
       "      <td>NaN</td>\n",
       "    </tr>\n",
       "    <tr>\n",
       "      <th>01/01/2017 04:00</th>\n",
       "      <td>3.3</td>\n",
       "      <td>28.0</td>\n",
       "      <td>33.0</td>\n",
       "      <td>22.1</td>\n",
       "      <td>NaN</td>\n",
       "    </tr>\n",
       "    <tr>\n",
       "      <th>...</th>\n",
       "      <td>...</td>\n",
       "      <td>...</td>\n",
       "      <td>...</td>\n",
       "      <td>...</td>\n",
       "      <td>...</td>\n",
       "    </tr>\n",
       "    <tr>\n",
       "      <th>31/12/2017 19:00</th>\n",
       "      <td>0.7</td>\n",
       "      <td>17.5</td>\n",
       "      <td>18.5</td>\n",
       "      <td>16.3</td>\n",
       "      <td>-2.0</td>\n",
       "    </tr>\n",
       "    <tr>\n",
       "      <th>31/12/2017 20:00</th>\n",
       "      <td>0.7</td>\n",
       "      <td>17.5</td>\n",
       "      <td>18.6</td>\n",
       "      <td>14.5</td>\n",
       "      <td>6.0</td>\n",
       "    </tr>\n",
       "    <tr>\n",
       "      <th>31/12/2017 21:00</th>\n",
       "      <td>0.7</td>\n",
       "      <td>14.1</td>\n",
       "      <td>15.1</td>\n",
       "      <td>8.6</td>\n",
       "      <td>5.0</td>\n",
       "    </tr>\n",
       "    <tr>\n",
       "      <th>31/12/2017 22:00</th>\n",
       "      <td>1.1</td>\n",
       "      <td>22.0</td>\n",
       "      <td>23.6</td>\n",
       "      <td>12.5</td>\n",
       "      <td>5.0</td>\n",
       "    </tr>\n",
       "    <tr>\n",
       "      <th>31/12/2017 23:00</th>\n",
       "      <td>0.9</td>\n",
       "      <td>19.4</td>\n",
       "      <td>20.7</td>\n",
       "      <td>10.4</td>\n",
       "      <td>6.0</td>\n",
       "    </tr>\n",
       "  </tbody>\n",
       "</table>\n",
       "<p>8737 rows × 5 columns</p>\n",
       "</div>"
      ],
      "text/plain": [
       "                 Value                        \n",
       "Species             NO   NO2   NOX  PM10 PM2.5\n",
       "ReadingDateTime                               \n",
       "01/01/2017 00:00   3.5  30.8  36.2  35.7   NaN\n",
       "01/01/2017 01:00   3.6  31.5  37.0  28.5   NaN\n",
       "01/01/2017 02:00   2.2  27.3  30.7  22.7   NaN\n",
       "01/01/2017 03:00   2.1  23.5  26.8  20.5   NaN\n",
       "01/01/2017 04:00   3.3  28.0  33.0  22.1   NaN\n",
       "...                ...   ...   ...   ...   ...\n",
       "31/12/2017 19:00   0.7  17.5  18.5  16.3  -2.0\n",
       "31/12/2017 20:00   0.7  17.5  18.6  14.5   6.0\n",
       "31/12/2017 21:00   0.7  14.1  15.1   8.6   5.0\n",
       "31/12/2017 22:00   1.1  22.0  23.6  12.5   5.0\n",
       "31/12/2017 23:00   0.9  19.4  20.7  10.4   6.0\n",
       "\n",
       "[8737 rows x 5 columns]"
      ]
     },
     "execution_count": 11,
     "metadata": {},
     "output_type": "execute_result"
    }
   ],
   "source": [
    "pvt_df = air_df_new.pivot_table(index='ReadingDateTime', columns=['Species'])\n",
    "pvt_df"
   ]
  },
  {
   "cell_type": "markdown",
   "metadata": {
    "id": "JmbiBXqFFIZx"
   },
   "source": [
    "6.\tA través de la función `describe()` responde:\n",
    "\n",
    "*   ¿Cuál es el mayor valor de `NO2` registrado? ¿A qué día pertenece? El mayor valor registrasdo es 120.2000 y fue el dia 24/01/2017 19:00\n",
    "\n",
    "*   ¿Cuál es el menor valor de `PM10` registrado?¿A qué día pertenece? El menor valor de PM10 es -5.6 y el dia al que pretenece es 12/09/2017 23:00\n",
    "\n",
    "*   ¿Cuál es la mediana del `NO`? ¿Cómo se interpreta? La mediana del NO es 15.045 y es el punto intermediio entre los datos ordenados y no ordenas quiere decir que el 50 % de los datos esta por encima de 15.045 y el otro 50% esta por debajo de 15.045\n",
    "\n",
    "*   ¿Cuál es el primer cuartil de `PM2.5`? ¿Qué significa? El primer cuartil de 7.0 y se ignifica el valor por debajo del cual se encuentra el 25% de los datos."
   ]
  },
  {
   "cell_type": "code",
   "execution_count": 12,
   "metadata": {
    "colab": {
     "base_uri": "https://localhost:8080/",
     "height": 332
    },
    "executionInfo": {
     "elapsed": 4,
     "status": "ok",
     "timestamp": 1737251786098,
     "user": {
      "displayName": "osvaldo trejo",
      "userId": "03791593736686831019"
     },
     "user_tz": 360
    },
    "id": "_qWYoEx3Fbod",
    "outputId": "e938bc2b-9caa-465a-e466-b9f4ab8f0007"
   },
   "outputs": [
    {
     "data": {
      "text/html": [
       "<div>\n",
       "<style scoped>\n",
       "    .dataframe tbody tr th:only-of-type {\n",
       "        vertical-align: middle;\n",
       "    }\n",
       "\n",
       "    .dataframe tbody tr th {\n",
       "        vertical-align: top;\n",
       "    }\n",
       "\n",
       "    .dataframe thead tr th {\n",
       "        text-align: left;\n",
       "    }\n",
       "</style>\n",
       "<table border=\"1\" class=\"dataframe\">\n",
       "  <thead>\n",
       "    <tr>\n",
       "      <th></th>\n",
       "      <th colspan=\"5\" halign=\"left\">Value</th>\n",
       "    </tr>\n",
       "    <tr>\n",
       "      <th>Species</th>\n",
       "      <th>NO</th>\n",
       "      <th>NO2</th>\n",
       "      <th>NOX</th>\n",
       "      <th>PM10</th>\n",
       "      <th>PM2.5</th>\n",
       "    </tr>\n",
       "  </thead>\n",
       "  <tbody>\n",
       "    <tr>\n",
       "      <th>count</th>\n",
       "      <td>8660.000000</td>\n",
       "      <td>8660.000000</td>\n",
       "      <td>8660.000000</td>\n",
       "      <td>8657.000000</td>\n",
       "      <td>5933.000000</td>\n",
       "    </tr>\n",
       "    <tr>\n",
       "      <th>mean</th>\n",
       "      <td>15.045115</td>\n",
       "      <td>38.010185</td>\n",
       "      <td>61.078661</td>\n",
       "      <td>22.551704</td>\n",
       "      <td>14.999831</td>\n",
       "    </tr>\n",
       "    <tr>\n",
       "      <th>std</th>\n",
       "      <td>26.678565</td>\n",
       "      <td>18.580841</td>\n",
       "      <td>54.584805</td>\n",
       "      <td>15.344755</td>\n",
       "      <td>13.558588</td>\n",
       "    </tr>\n",
       "    <tr>\n",
       "      <th>min</th>\n",
       "      <td>-2.000000</td>\n",
       "      <td>2.800000</td>\n",
       "      <td>1.000000</td>\n",
       "      <td>-5.600000</td>\n",
       "      <td>-8.000000</td>\n",
       "    </tr>\n",
       "    <tr>\n",
       "      <th>25%</th>\n",
       "      <td>3.100000</td>\n",
       "      <td>23.800000</td>\n",
       "      <td>30.300000</td>\n",
       "      <td>13.900000</td>\n",
       "      <td>7.000000</td>\n",
       "    </tr>\n",
       "    <tr>\n",
       "      <th>50%</th>\n",
       "      <td>7.100000</td>\n",
       "      <td>35.300000</td>\n",
       "      <td>46.900000</td>\n",
       "      <td>19.500000</td>\n",
       "      <td>11.000000</td>\n",
       "    </tr>\n",
       "    <tr>\n",
       "      <th>75%</th>\n",
       "      <td>15.500000</td>\n",
       "      <td>49.900000</td>\n",
       "      <td>73.800000</td>\n",
       "      <td>27.300000</td>\n",
       "      <td>18.000000</td>\n",
       "    </tr>\n",
       "    <tr>\n",
       "      <th>max</th>\n",
       "      <td>401.799990</td>\n",
       "      <td>120.200000</td>\n",
       "      <td>734.299990</td>\n",
       "      <td>633.099980</td>\n",
       "      <td>128.000000</td>\n",
       "    </tr>\n",
       "  </tbody>\n",
       "</table>\n",
       "</div>"
      ],
      "text/plain": [
       "               Value                                                    \n",
       "Species           NO          NO2          NOX         PM10        PM2.5\n",
       "count    8660.000000  8660.000000  8660.000000  8657.000000  5933.000000\n",
       "mean       15.045115    38.010185    61.078661    22.551704    14.999831\n",
       "std        26.678565    18.580841    54.584805    15.344755    13.558588\n",
       "min        -2.000000     2.800000     1.000000    -5.600000    -8.000000\n",
       "25%         3.100000    23.800000    30.300000    13.900000     7.000000\n",
       "50%         7.100000    35.300000    46.900000    19.500000    11.000000\n",
       "75%        15.500000    49.900000    73.800000    27.300000    18.000000\n",
       "max       401.799990   120.200000   734.299990   633.099980   128.000000"
      ]
     },
     "execution_count": 12,
     "metadata": {},
     "output_type": "execute_result"
    }
   ],
   "source": [
    "pvt_df.describe()"
   ]
  },
  {
   "cell_type": "code",
   "execution_count": 15,
   "metadata": {
    "colab": {
     "base_uri": "https://localhost:8080/",
     "height": 143
    },
    "executionInfo": {
     "elapsed": 4,
     "status": "ok",
     "timestamp": 1737251786098,
     "user": {
      "displayName": "osvaldo trejo",
      "userId": "03791593736686831019"
     },
     "user_tz": 360
    },
    "id": "o4ESsu2tFQ2F",
    "outputId": "aee3de78-e209-45cb-cab7-95d4365f3d5f"
   },
   "outputs": [
    {
     "name": "stdout",
     "output_type": "stream",
     "text": [
      "                      Value                              \n",
      "Species                  NO    NO2        NOX  PM10 PM2.5\n",
      "ReadingDateTime                                          \n",
      "24/01/2017 19:00  148.60001  120.2  348.10001  44.4  42.0\n",
      "                 Value                     \n",
      "Species             NO  NO2  NOX PM10 PM2.5\n",
      "ReadingDateTime                            \n",
      "12/09/2017 23:00   0.1  7.0  7.1 -5.6   NaN\n"
     ]
    }
   ],
   "source": [
    "print(pvt_df.loc[pvt_df['Value']['NO2'] == pvt_df['Value']['NO2'].max()])\n",
    "print(pvt_df.loc[pvt_df['Value']['PM10'] == pvt_df['Value']['PM10'].min()])\n"
   ]
  },
  {
   "cell_type": "markdown",
   "metadata": {
    "id": "Rki16hYaFd9p"
   },
   "source": [
    "7.\tDibuja un histograma para cada columna de `pvt_df`. ¿Qué contaminante tiene mayor variabilidad? El contaminante con mayor variabilidad es NO2 ya que tiene una distribucion mas grande en sus valores"
   ]
  },
  {
   "cell_type": "code",
   "execution_count": 16,
   "metadata": {
    "colab": {
     "base_uri": "https://localhost:8080/",
     "height": 559
    },
    "executionInfo": {
     "elapsed": 1059,
     "status": "ok",
     "timestamp": 1737251787153,
     "user": {
      "displayName": "osvaldo trejo",
      "userId": "03791593736686831019"
     },
     "user_tz": 360
    },
    "id": "NaGkunSeFfn8",
    "outputId": "4f2d7533-1de2-444d-89df-e68f27738149"
   },
   "outputs": [
    {
     "data": {
      "text/plain": [
       "array([[<Axes: title={'center': \"('Value', 'NO')\"}>,\n",
       "        <Axes: title={'center': \"('Value', 'NO2')\"}>],\n",
       "       [<Axes: title={'center': \"('Value', 'NOX')\"}>,\n",
       "        <Axes: title={'center': \"('Value', 'PM10')\"}>],\n",
       "       [<Axes: title={'center': \"('Value', 'PM2.5')\"}>, <Axes: >]],\n",
       "      dtype=object)"
      ]
     },
     "execution_count": 16,
     "metadata": {},
     "output_type": "execute_result"
    },
    {
     "data": {
      "image/png": "[encoded data removed]",
      "text/plain": [
       "<Figure size 640x480 with 6 Axes>"
      ]
     },
     "metadata": {},
     "output_type": "display_data"
    }
   ],
   "source": [
    "pvt_df.hist()"
   ]
  },
  {
   "cell_type": "markdown",
   "metadata": {
    "id": "2hJ4LzP3fgvy"
   },
   "source": [
    "8.\tEjecuta el siguiente código y comenta qué hace cada línea:"
   ]
  },
  {
   "cell_type": "code",
   "execution_count": 17,
   "metadata": {
    "colab": {
     "base_uri": "https://localhost:8080/",
     "height": 455
    },
    "executionInfo": {
     "elapsed": 405,
     "status": "ok",
     "timestamp": 1737251787556,
     "user": {
      "displayName": "osvaldo trejo",
      "userId": "03791593736686831019"
     },
     "user_tz": 360
    },
    "id": "goQuWzNVfomA",
    "outputId": "e98b9fda-d8f7-49a5-e5bf-d76077a59d20"
   },
   "outputs": [
    {
     "data": {
      "text/html": [
       "<div>\n",
       "<style scoped>\n",
       "    .dataframe tbody tr th:only-of-type {\n",
       "        vertical-align: middle;\n",
       "    }\n",
       "\n",
       "    .dataframe tbody tr th {\n",
       "        vertical-align: top;\n",
       "    }\n",
       "\n",
       "    .dataframe thead th {\n",
       "        text-align: right;\n",
       "    }\n",
       "</style>\n",
       "<table border=\"1\" class=\"dataframe\">\n",
       "  <thead>\n",
       "    <tr style=\"text-align: right;\">\n",
       "      <th></th>\n",
       "      <th></th>\n",
       "      <th></th>\n",
       "      <th></th>\n",
       "      <th>Site</th>\n",
       "      <th>Value</th>\n",
       "      <th>Units</th>\n",
       "      <th>Provisional or Ratified</th>\n",
       "    </tr>\n",
       "    <tr>\n",
       "      <th>Month</th>\n",
       "      <th>Day</th>\n",
       "      <th>Time</th>\n",
       "      <th>Species</th>\n",
       "      <th></th>\n",
       "      <th></th>\n",
       "      <th></th>\n",
       "      <th></th>\n",
       "    </tr>\n",
       "  </thead>\n",
       "  <tbody>\n",
       "    <tr>\n",
       "      <th rowspan=\"5\" valign=\"top\">01</th>\n",
       "      <th rowspan=\"5\" valign=\"top\">01</th>\n",
       "      <th>00:00</th>\n",
       "      <th>NO</th>\n",
       "      <td>CT3</td>\n",
       "      <td>3.5</td>\n",
       "      <td>ug m-3</td>\n",
       "      <td>R</td>\n",
       "    </tr>\n",
       "    <tr>\n",
       "      <th>01:00</th>\n",
       "      <th>NO</th>\n",
       "      <td>CT3</td>\n",
       "      <td>3.6</td>\n",
       "      <td>ug m-3</td>\n",
       "      <td>R</td>\n",
       "    </tr>\n",
       "    <tr>\n",
       "      <th>02:00</th>\n",
       "      <th>NO</th>\n",
       "      <td>CT3</td>\n",
       "      <td>2.2</td>\n",
       "      <td>ug m-3</td>\n",
       "      <td>R</td>\n",
       "    </tr>\n",
       "    <tr>\n",
       "      <th>03:00</th>\n",
       "      <th>NO</th>\n",
       "      <td>CT3</td>\n",
       "      <td>2.1</td>\n",
       "      <td>ug m-3</td>\n",
       "      <td>R</td>\n",
       "    </tr>\n",
       "    <tr>\n",
       "      <th>04:00</th>\n",
       "      <th>NO</th>\n",
       "      <td>CT3</td>\n",
       "      <td>3.3</td>\n",
       "      <td>ug m-3</td>\n",
       "      <td>R</td>\n",
       "    </tr>\n",
       "    <tr>\n",
       "      <th>...</th>\n",
       "      <th>...</th>\n",
       "      <th>...</th>\n",
       "      <th>...</th>\n",
       "      <td>...</td>\n",
       "      <td>...</td>\n",
       "      <td>...</td>\n",
       "      <td>...</td>\n",
       "    </tr>\n",
       "    <tr>\n",
       "      <th rowspan=\"5\" valign=\"top\">12</th>\n",
       "      <th rowspan=\"5\" valign=\"top\">31</th>\n",
       "      <th>19:00</th>\n",
       "      <th>PM2.5</th>\n",
       "      <td>CT3</td>\n",
       "      <td>-2.0</td>\n",
       "      <td>ug m-3</td>\n",
       "      <td>R</td>\n",
       "    </tr>\n",
       "    <tr>\n",
       "      <th>20:00</th>\n",
       "      <th>PM2.5</th>\n",
       "      <td>CT3</td>\n",
       "      <td>6.0</td>\n",
       "      <td>ug m-3</td>\n",
       "      <td>R</td>\n",
       "    </tr>\n",
       "    <tr>\n",
       "      <th>21:00</th>\n",
       "      <th>PM2.5</th>\n",
       "      <td>CT3</td>\n",
       "      <td>5.0</td>\n",
       "      <td>ug m-3</td>\n",
       "      <td>R</td>\n",
       "    </tr>\n",
       "    <tr>\n",
       "      <th>22:00</th>\n",
       "      <th>PM2.5</th>\n",
       "      <td>CT3</td>\n",
       "      <td>5.0</td>\n",
       "      <td>ug m-3</td>\n",
       "      <td>R</td>\n",
       "    </tr>\n",
       "    <tr>\n",
       "      <th>23:00</th>\n",
       "      <th>PM2.5</th>\n",
       "      <td>CT3</td>\n",
       "      <td>6.0</td>\n",
       "      <td>ug m-3</td>\n",
       "      <td>R</td>\n",
       "    </tr>\n",
       "  </tbody>\n",
       "</table>\n",
       "<p>43800 rows × 4 columns</p>\n",
       "</div>"
      ],
      "text/plain": [
       "                        Site  Value   Units Provisional or Ratified\n",
       "Month Day Time  Species                                            \n",
       "01    01  00:00 NO       CT3    3.5  ug m-3                       R\n",
       "          01:00 NO       CT3    3.6  ug m-3                       R\n",
       "          02:00 NO       CT3    2.2  ug m-3                       R\n",
       "          03:00 NO       CT3    2.1  ug m-3                       R\n",
       "          04:00 NO       CT3    3.3  ug m-3                       R\n",
       "...                      ...    ...     ...                     ...\n",
       "12    31  19:00 PM2.5    CT3   -2.0  ug m-3                       R\n",
       "          20:00 PM2.5    CT3    6.0  ug m-3                       R\n",
       "          21:00 PM2.5    CT3    5.0  ug m-3                       R\n",
       "          22:00 PM2.5    CT3    5.0  ug m-3                       R\n",
       "          23:00 PM2.5    CT3    6.0  ug m-3                       R\n",
       "\n",
       "[43800 rows x 4 columns]"
      ]
     },
     "execution_count": 17,
     "metadata": {},
     "output_type": "execute_result"
    }
   ],
   "source": [
    "datetime_df = air_df.ReadingDateTime.str.split(' ',expand=True) # Esta linea de comandos esta separando la fecha y como delimitador utiliza los espacios\n",
    "datetime_df\n",
    "datetime_df.columns = ['Date','Time'] # Esta renombrado las columnas por Date and Time\n",
    "datetime_df\n",
    "date_df = datetime_df.Date.str.split('/',expand=True) #Separa el dia, mes y año con el delimitador /\n",
    "date_df.columns = ['Day','Month','Year'] # Esta renombrando las columnas por Day, Month and Year\n",
    "air_df = air_df.join(date_df).join(datetime_df.Time).drop(columns=['ReadingDateTime','Year']) #Esta uniendo los dataframe con la columnas Day, Month and Year con el dataframe principal y esta removiendo las columnas ReadingDateTime y Year\n",
    "air_df = air_df.set_index(['Month','Day','Time','Species']) # Este codigo esta setteando los indices con las columnas Month, Day, Time and Species\n",
    "air_df"
   ]
  },
  {
   "cell_type": "markdown",
   "metadata": {
    "id": "37E3dol8fpik"
   },
   "source": [
    "9. Ejecuta la siguiente instrucción y compara su salida con la del código anterior (ejercicio 8). ¿Son iguales?\n",
    "\n",
    "No son iguales ya que la función unstack reorganiza un indice en un dataframe,\n",
    "transformando uno de los niveles del indice en columnas,\n",
    "ademas de dar un mejor detalle de los datos y el codigo del ejercicio 8 trata de reoganizar y\n",
    "procesar los datos ademas de dividir y agregar nuevas columnas\n",
    "                  "
   ]
  },
  {
   "cell_type": "code",
   "execution_count": 18,
   "metadata": {
    "colab": {
     "base_uri": "https://localhost:8080/",
     "height": 486
    },
    "executionInfo": {
     "elapsed": 271,
     "status": "ok",
     "timestamp": 1737251787826,
     "user": {
      "displayName": "osvaldo trejo",
      "userId": "03791593736686831019"
     },
     "user_tz": 360
    },
    "id": "cgbAxJrvfweW",
    "outputId": "1b7075fe-fdf9-4e99-c88f-c7514fa10387"
   },
   "outputs": [
    {
     "data": {
      "text/html": [
       "<div>\n",
       "<style scoped>\n",
       "    .dataframe tbody tr th:only-of-type {\n",
       "        vertical-align: middle;\n",
       "    }\n",
       "\n",
       "    .dataframe tbody tr th {\n",
       "        vertical-align: top;\n",
       "    }\n",
       "\n",
       "    .dataframe thead tr th {\n",
       "        text-align: left;\n",
       "    }\n",
       "\n",
       "    .dataframe thead tr:last-of-type th {\n",
       "        text-align: right;\n",
       "    }\n",
       "</style>\n",
       "<table border=\"1\" class=\"dataframe\">\n",
       "  <thead>\n",
       "    <tr>\n",
       "      <th></th>\n",
       "      <th></th>\n",
       "      <th></th>\n",
       "      <th colspan=\"5\" halign=\"left\">Site</th>\n",
       "      <th colspan=\"5\" halign=\"left\">Value</th>\n",
       "      <th colspan=\"5\" halign=\"left\">Units</th>\n",
       "      <th colspan=\"5\" halign=\"left\">Provisional or Ratified</th>\n",
       "    </tr>\n",
       "    <tr>\n",
       "      <th></th>\n",
       "      <th></th>\n",
       "      <th>Species</th>\n",
       "      <th>NO</th>\n",
       "      <th>NO2</th>\n",
       "      <th>NOX</th>\n",
       "      <th>PM10</th>\n",
       "      <th>PM2.5</th>\n",
       "      <th>NO</th>\n",
       "      <th>NO2</th>\n",
       "      <th>NOX</th>\n",
       "      <th>PM10</th>\n",
       "      <th>PM2.5</th>\n",
       "      <th>NO</th>\n",
       "      <th>NO2</th>\n",
       "      <th>NOX</th>\n",
       "      <th>PM10</th>\n",
       "      <th>PM2.5</th>\n",
       "      <th>NO</th>\n",
       "      <th>NO2</th>\n",
       "      <th>NOX</th>\n",
       "      <th>PM10</th>\n",
       "      <th>PM2.5</th>\n",
       "    </tr>\n",
       "    <tr>\n",
       "      <th>Month</th>\n",
       "      <th>Day</th>\n",
       "      <th>Time</th>\n",
       "      <th></th>\n",
       "      <th></th>\n",
       "      <th></th>\n",
       "      <th></th>\n",
       "      <th></th>\n",
       "      <th></th>\n",
       "      <th></th>\n",
       "      <th></th>\n",
       "      <th></th>\n",
       "      <th></th>\n",
       "      <th></th>\n",
       "      <th></th>\n",
       "      <th></th>\n",
       "      <th></th>\n",
       "      <th></th>\n",
       "      <th></th>\n",
       "      <th></th>\n",
       "      <th></th>\n",
       "      <th></th>\n",
       "      <th></th>\n",
       "    </tr>\n",
       "  </thead>\n",
       "  <tbody>\n",
       "    <tr>\n",
       "      <th rowspan=\"5\" valign=\"top\">01</th>\n",
       "      <th rowspan=\"5\" valign=\"top\">01</th>\n",
       "      <th>00:00</th>\n",
       "      <td>CT3</td>\n",
       "      <td>CT3</td>\n",
       "      <td>CT3</td>\n",
       "      <td>CT3</td>\n",
       "      <td>CT3</td>\n",
       "      <td>3.5</td>\n",
       "      <td>30.8</td>\n",
       "      <td>36.2</td>\n",
       "      <td>35.7</td>\n",
       "      <td>NaN</td>\n",
       "      <td>ug m-3</td>\n",
       "      <td>ug m-3</td>\n",
       "      <td>ug m-3 as NO2</td>\n",
       "      <td>ug/m3</td>\n",
       "      <td>ug m-3</td>\n",
       "      <td>R</td>\n",
       "      <td>R</td>\n",
       "      <td>R</td>\n",
       "      <td>R</td>\n",
       "      <td>R</td>\n",
       "    </tr>\n",
       "    <tr>\n",
       "      <th>01:00</th>\n",
       "      <td>CT3</td>\n",
       "      <td>CT3</td>\n",
       "      <td>CT3</td>\n",
       "      <td>CT3</td>\n",
       "      <td>CT3</td>\n",
       "      <td>3.6</td>\n",
       "      <td>31.5</td>\n",
       "      <td>37.0</td>\n",
       "      <td>28.5</td>\n",
       "      <td>NaN</td>\n",
       "      <td>ug m-3</td>\n",
       "      <td>ug m-3</td>\n",
       "      <td>ug m-3 as NO2</td>\n",
       "      <td>ug/m3</td>\n",
       "      <td>ug m-3</td>\n",
       "      <td>R</td>\n",
       "      <td>R</td>\n",
       "      <td>R</td>\n",
       "      <td>R</td>\n",
       "      <td>R</td>\n",
       "    </tr>\n",
       "    <tr>\n",
       "      <th>02:00</th>\n",
       "      <td>CT3</td>\n",
       "      <td>CT3</td>\n",
       "      <td>CT3</td>\n",
       "      <td>CT3</td>\n",
       "      <td>CT3</td>\n",
       "      <td>2.2</td>\n",
       "      <td>27.3</td>\n",
       "      <td>30.7</td>\n",
       "      <td>22.7</td>\n",
       "      <td>NaN</td>\n",
       "      <td>ug m-3</td>\n",
       "      <td>ug m-3</td>\n",
       "      <td>ug m-3 as NO2</td>\n",
       "      <td>ug/m3</td>\n",
       "      <td>ug m-3</td>\n",
       "      <td>R</td>\n",
       "      <td>R</td>\n",
       "      <td>R</td>\n",
       "      <td>R</td>\n",
       "      <td>R</td>\n",
       "    </tr>\n",
       "    <tr>\n",
       "      <th>03:00</th>\n",
       "      <td>CT3</td>\n",
       "      <td>CT3</td>\n",
       "      <td>CT3</td>\n",
       "      <td>CT3</td>\n",
       "      <td>CT3</td>\n",
       "      <td>2.1</td>\n",
       "      <td>23.5</td>\n",
       "      <td>26.8</td>\n",
       "      <td>20.5</td>\n",
       "      <td>NaN</td>\n",
       "      <td>ug m-3</td>\n",
       "      <td>ug m-3</td>\n",
       "      <td>ug m-3 as NO2</td>\n",
       "      <td>ug/m3</td>\n",
       "      <td>ug m-3</td>\n",
       "      <td>R</td>\n",
       "      <td>R</td>\n",
       "      <td>R</td>\n",
       "      <td>R</td>\n",
       "      <td>R</td>\n",
       "    </tr>\n",
       "    <tr>\n",
       "      <th>04:00</th>\n",
       "      <td>CT3</td>\n",
       "      <td>CT3</td>\n",
       "      <td>CT3</td>\n",
       "      <td>CT3</td>\n",
       "      <td>CT3</td>\n",
       "      <td>3.3</td>\n",
       "      <td>28.0</td>\n",
       "      <td>33.0</td>\n",
       "      <td>22.1</td>\n",
       "      <td>NaN</td>\n",
       "      <td>ug m-3</td>\n",
       "      <td>ug m-3</td>\n",
       "      <td>ug m-3 as NO2</td>\n",
       "      <td>ug/m3</td>\n",
       "      <td>ug m-3</td>\n",
       "      <td>R</td>\n",
       "      <td>R</td>\n",
       "      <td>R</td>\n",
       "      <td>R</td>\n",
       "      <td>R</td>\n",
       "    </tr>\n",
       "    <tr>\n",
       "      <th>...</th>\n",
       "      <th>...</th>\n",
       "      <th>...</th>\n",
       "      <td>...</td>\n",
       "      <td>...</td>\n",
       "      <td>...</td>\n",
       "      <td>...</td>\n",
       "      <td>...</td>\n",
       "      <td>...</td>\n",
       "      <td>...</td>\n",
       "      <td>...</td>\n",
       "      <td>...</td>\n",
       "      <td>...</td>\n",
       "      <td>...</td>\n",
       "      <td>...</td>\n",
       "      <td>...</td>\n",
       "      <td>...</td>\n",
       "      <td>...</td>\n",
       "      <td>...</td>\n",
       "      <td>...</td>\n",
       "      <td>...</td>\n",
       "      <td>...</td>\n",
       "      <td>...</td>\n",
       "    </tr>\n",
       "    <tr>\n",
       "      <th rowspan=\"5\" valign=\"top\">12</th>\n",
       "      <th rowspan=\"5\" valign=\"top\">31</th>\n",
       "      <th>19:00</th>\n",
       "      <td>CT3</td>\n",
       "      <td>CT3</td>\n",
       "      <td>CT3</td>\n",
       "      <td>CT3</td>\n",
       "      <td>CT3</td>\n",
       "      <td>0.7</td>\n",
       "      <td>17.5</td>\n",
       "      <td>18.5</td>\n",
       "      <td>16.3</td>\n",
       "      <td>-2.0</td>\n",
       "      <td>ug m-3</td>\n",
       "      <td>ug m-3</td>\n",
       "      <td>ug m-3 as NO2</td>\n",
       "      <td>ug/m3</td>\n",
       "      <td>ug m-3</td>\n",
       "      <td>R</td>\n",
       "      <td>R</td>\n",
       "      <td>R</td>\n",
       "      <td>R</td>\n",
       "      <td>R</td>\n",
       "    </tr>\n",
       "    <tr>\n",
       "      <th>20:00</th>\n",
       "      <td>CT3</td>\n",
       "      <td>CT3</td>\n",
       "      <td>CT3</td>\n",
       "      <td>CT3</td>\n",
       "      <td>CT3</td>\n",
       "      <td>0.7</td>\n",
       "      <td>17.5</td>\n",
       "      <td>18.6</td>\n",
       "      <td>14.5</td>\n",
       "      <td>6.0</td>\n",
       "      <td>ug m-3</td>\n",
       "      <td>ug m-3</td>\n",
       "      <td>ug m-3 as NO2</td>\n",
       "      <td>ug/m3</td>\n",
       "      <td>ug m-3</td>\n",
       "      <td>R</td>\n",
       "      <td>R</td>\n",
       "      <td>R</td>\n",
       "      <td>R</td>\n",
       "      <td>R</td>\n",
       "    </tr>\n",
       "    <tr>\n",
       "      <th>21:00</th>\n",
       "      <td>CT3</td>\n",
       "      <td>CT3</td>\n",
       "      <td>CT3</td>\n",
       "      <td>CT3</td>\n",
       "      <td>CT3</td>\n",
       "      <td>0.7</td>\n",
       "      <td>14.1</td>\n",
       "      <td>15.1</td>\n",
       "      <td>8.6</td>\n",
       "      <td>5.0</td>\n",
       "      <td>ug m-3</td>\n",
       "      <td>ug m-3</td>\n",
       "      <td>ug m-3 as NO2</td>\n",
       "      <td>ug/m3</td>\n",
       "      <td>ug m-3</td>\n",
       "      <td>R</td>\n",
       "      <td>R</td>\n",
       "      <td>R</td>\n",
       "      <td>R</td>\n",
       "      <td>R</td>\n",
       "    </tr>\n",
       "    <tr>\n",
       "      <th>22:00</th>\n",
       "      <td>CT3</td>\n",
       "      <td>CT3</td>\n",
       "      <td>CT3</td>\n",
       "      <td>CT3</td>\n",
       "      <td>CT3</td>\n",
       "      <td>1.1</td>\n",
       "      <td>22.0</td>\n",
       "      <td>23.6</td>\n",
       "      <td>12.5</td>\n",
       "      <td>5.0</td>\n",
       "      <td>ug m-3</td>\n",
       "      <td>ug m-3</td>\n",
       "      <td>ug m-3 as NO2</td>\n",
       "      <td>ug/m3</td>\n",
       "      <td>ug m-3</td>\n",
       "      <td>R</td>\n",
       "      <td>R</td>\n",
       "      <td>R</td>\n",
       "      <td>R</td>\n",
       "      <td>R</td>\n",
       "    </tr>\n",
       "    <tr>\n",
       "      <th>23:00</th>\n",
       "      <td>CT3</td>\n",
       "      <td>CT3</td>\n",
       "      <td>CT3</td>\n",
       "      <td>CT3</td>\n",
       "      <td>CT3</td>\n",
       "      <td>0.9</td>\n",
       "      <td>19.4</td>\n",
       "      <td>20.7</td>\n",
       "      <td>10.4</td>\n",
       "      <td>6.0</td>\n",
       "      <td>ug m-3</td>\n",
       "      <td>ug m-3</td>\n",
       "      <td>ug m-3 as NO2</td>\n",
       "      <td>ug/m3</td>\n",
       "      <td>ug m-3</td>\n",
       "      <td>R</td>\n",
       "      <td>R</td>\n",
       "      <td>R</td>\n",
       "      <td>R</td>\n",
       "      <td>R</td>\n",
       "    </tr>\n",
       "  </tbody>\n",
       "</table>\n",
       "<p>8760 rows × 20 columns</p>\n",
       "</div>"
      ],
      "text/plain": [
       "                Site                      Value                          \\\n",
       "Species           NO  NO2  NOX PM10 PM2.5    NO   NO2   NOX  PM10 PM2.5   \n",
       "Month Day Time                                                            \n",
       "01    01  00:00  CT3  CT3  CT3  CT3   CT3   3.5  30.8  36.2  35.7   NaN   \n",
       "          01:00  CT3  CT3  CT3  CT3   CT3   3.6  31.5  37.0  28.5   NaN   \n",
       "          02:00  CT3  CT3  CT3  CT3   CT3   2.2  27.3  30.7  22.7   NaN   \n",
       "          03:00  CT3  CT3  CT3  CT3   CT3   2.1  23.5  26.8  20.5   NaN   \n",
       "          04:00  CT3  CT3  CT3  CT3   CT3   3.3  28.0  33.0  22.1   NaN   \n",
       "...              ...  ...  ...  ...   ...   ...   ...   ...   ...   ...   \n",
       "12    31  19:00  CT3  CT3  CT3  CT3   CT3   0.7  17.5  18.5  16.3  -2.0   \n",
       "          20:00  CT3  CT3  CT3  CT3   CT3   0.7  17.5  18.6  14.5   6.0   \n",
       "          21:00  CT3  CT3  CT3  CT3   CT3   0.7  14.1  15.1   8.6   5.0   \n",
       "          22:00  CT3  CT3  CT3  CT3   CT3   1.1  22.0  23.6  12.5   5.0   \n",
       "          23:00  CT3  CT3  CT3  CT3   CT3   0.9  19.4  20.7  10.4   6.0   \n",
       "\n",
       "                  Units                                        \\\n",
       "Species              NO     NO2            NOX   PM10   PM2.5   \n",
       "Month Day Time                                                  \n",
       "01    01  00:00  ug m-3  ug m-3  ug m-3 as NO2  ug/m3  ug m-3   \n",
       "          01:00  ug m-3  ug m-3  ug m-3 as NO2  ug/m3  ug m-3   \n",
       "          02:00  ug m-3  ug m-3  ug m-3 as NO2  ug/m3  ug m-3   \n",
       "          03:00  ug m-3  ug m-3  ug m-3 as NO2  ug/m3  ug m-3   \n",
       "          04:00  ug m-3  ug m-3  ug m-3 as NO2  ug/m3  ug m-3   \n",
       "...                 ...     ...            ...    ...     ...   \n",
       "12    31  19:00  ug m-3  ug m-3  ug m-3 as NO2  ug/m3  ug m-3   \n",
       "          20:00  ug m-3  ug m-3  ug m-3 as NO2  ug/m3  ug m-3   \n",
       "          21:00  ug m-3  ug m-3  ug m-3 as NO2  ug/m3  ug m-3   \n",
       "          22:00  ug m-3  ug m-3  ug m-3 as NO2  ug/m3  ug m-3   \n",
       "          23:00  ug m-3  ug m-3  ug m-3 as NO2  ug/m3  ug m-3   \n",
       "\n",
       "                Provisional or Ratified                     \n",
       "Species                              NO NO2 NOX PM10 PM2.5  \n",
       "Month Day Time                                              \n",
       "01    01  00:00                       R   R   R    R     R  \n",
       "          01:00                       R   R   R    R     R  \n",
       "          02:00                       R   R   R    R     R  \n",
       "          03:00                       R   R   R    R     R  \n",
       "          04:00                       R   R   R    R     R  \n",
       "...                                 ...  ..  ..  ...   ...  \n",
       "12    31  19:00                       R   R   R    R     R  \n",
       "          20:00                       R   R   R    R     R  \n",
       "          21:00                       R   R   R    R     R  \n",
       "          22:00                       R   R   R    R     R  \n",
       "          23:00                       R   R   R    R     R  \n",
       "\n",
       "[8760 rows x 20 columns]"
      ]
     },
     "execution_count": 18,
     "metadata": {},
     "output_type": "execute_result"
    }
   ],
   "source": [
    "air_df.unstack()\n"
   ]
  },
  {
   "cell_type": "markdown",
   "metadata": {
    "id": "K1vWLX2ffxHV"
   },
   "source": [
    "10.\tExplica cuáles son las diferencias y similitudes entre el par `melt()/pivot()` y el par `stack()/unstack()`. Si tuvieras que elegir una contraparte para `melt()` entre `stack()/unstack()`, ¿cuál elegirías? ¿Por qué?\n",
    "\n",
    "Los pares de funciones melt()/pivot() y stack()/unstack() en pandas tienen el propósito común de transformar la estructura de un DataFrame, pero se utilizan en contextos diferentes.\n",
    "\n",
    "* Propósito:\n",
    "\n",
    "    * melt()/pivot() convierten entre formatos ancho y largo. melt() transforma columnas en filas, mientras que pivot() realiza el proceso inverso.\n",
    "    * stack()/unstack() reorganizan niveles entre índices y columnas en un DataFrame con índices jerárquicos.\n",
    "* Requisitos:\n",
    "    * melt() y pivot() funcionan con cualquier DataFrame, sin necesidad de índices jerárquicos.\n",
    "    * stack() y unstack() requieren un MultiIndex para operar.\n",
    "\n",
    "La función más similar a melt() es stack(), ya que ambas transforman datos de un formato más ancho a uno más largo. Sin embargo, melt() es más flexible porque no requiere un índice jerárquico.\n",
    "\n",
    "En resumen, el uso de estos métodos depende de la estructura inicial del DataFrame y  si necesitas trabajar con índices jerárquicos (stack()/unstack()) o transformar formatos de datos sin índices jerárquicos (melt()/pivot()).\n",
    "\n",
    "¿Cual eligiria?\n",
    "\n",
    "Elegiría melt()/pivot() debido a su simplicidad y versatilidad en la manipulación de datos tabulares estándar. Sin embargo, si el proyecto implica índices jerárquicos y estructuras complejas, stack()/unstack() sería la mejor opción."
   ]
  },
  {
   "cell_type": "markdown",
   "metadata": {
    "id": "L0EtgOVIfzRd"
   },
   "source": []
  }
 ],
 "metadata": {
  "colab": {
   "provenance": []
  },
  "kernelspec": {
   "display_name": "myenv",
   "language": "python",
   "name": "python3"
  },
  "language_info": {
   "codemirror_mode": {
    "name": "ipython",
    "version": 3
   },
   "file_extension": ".py",
   "mimetype": "text/x-python",
   "name": "python",
   "nbconvert_exporter": "python",
   "pygments_lexer": "ipython3",
   "version": "3.12.6"
  }
 },
 "nbformat": 4,
 "nbformat_minor": 0
}
